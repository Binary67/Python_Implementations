{
 "cells": [
  {
   "cell_type": "markdown",
   "metadata": {},
   "source": [
    "## N-gram Representation"
   ]
  },
  {
   "cell_type": "code",
   "execution_count": 1,
   "metadata": {},
   "outputs": [],
   "source": [
    "from nltk import ngrams\n",
    "import numpy as np"
   ]
  },
  {
   "cell_type": "code",
   "execution_count": 2,
   "metadata": {},
   "outputs": [],
   "source": [
    "TEXT = '''The term recurrent neural network is used indiscriminately to refer to two broad classes of networks with a \n",
    "        similar general structure, where one is finite impulse and the other is infinite impulse. Both classes of networks \n",
    "        exhibit temporal dynamic behavior. '''"
   ]
  },
  {
   "cell_type": "code",
   "execution_count": 3,
   "metadata": {},
   "outputs": [
    {
     "name": "stdout",
     "output_type": "stream",
     "text": [
      "['The', 'term', 'recurrent', 'neural', 'network', 'is', 'used', 'indiscriminately', 'to', 'refer', 'to', 'two', 'broad', 'classes', 'of', 'networks', 'with', 'a', 'similar', 'general', 'structure,', 'where', 'one', 'is', 'finite', 'impulse', 'and', 'the', 'other', 'is', 'infinite', 'impulse.', 'Both', 'classes', 'of', 'networks', 'exhibit', 'temporal', 'dynamic', 'behavior.']\n"
     ]
    }
   ],
   "source": [
    "WORD_BAG = TEXT.split()\n",
    "print(WORD_BAG)"
   ]
  },
  {
   "cell_type": "code",
   "execution_count": 4,
   "metadata": {},
   "outputs": [
    {
     "name": "stdout",
     "output_type": "stream",
     "text": [
      "[('The', 'term'), ('term', 'recurrent'), ('recurrent', 'neural'), ('neural', 'network'), ('network', 'is'), ('is', 'used'), ('used', 'indiscriminately'), ('indiscriminately', 'to'), ('to', 'refer'), ('refer', 'to'), ('to', 'two'), ('two', 'broad'), ('broad', 'classes'), ('classes', 'of'), ('of', 'networks'), ('networks', 'with'), ('with', 'a'), ('a', 'similar'), ('similar', 'general'), ('general', 'structure,'), ('structure,', 'where'), ('where', 'one'), ('one', 'is'), ('is', 'finite'), ('finite', 'impulse'), ('impulse', 'and'), ('and', 'the'), ('the', 'other'), ('other', 'is'), ('is', 'infinite'), ('infinite', 'impulse.'), ('impulse.', 'Both'), ('Both', 'classes'), ('classes', 'of'), ('of', 'networks'), ('networks', 'exhibit'), ('exhibit', 'temporal'), ('temporal', 'dynamic'), ('dynamic', 'behavior.')]\n"
     ]
    }
   ],
   "source": [
    "N_GRAM_BAG = list(ngrams(WORD_BAG, 2))\n",
    "print(N_GRAM_BAG)"
   ]
  },
  {
   "cell_type": "code",
   "execution_count": 5,
   "metadata": {},
   "outputs": [
    {
     "name": "stdout",
     "output_type": "stream",
     "text": [
      "[('The', 'term', 'recurrent'), ('term', 'recurrent', 'neural'), ('recurrent', 'neural', 'network'), ('neural', 'network', 'is'), ('network', 'is', 'used'), ('is', 'used', 'indiscriminately'), ('used', 'indiscriminately', 'to'), ('indiscriminately', 'to', 'refer'), ('to', 'refer', 'to'), ('refer', 'to', 'two'), ('to', 'two', 'broad'), ('two', 'broad', 'classes'), ('broad', 'classes', 'of'), ('classes', 'of', 'networks'), ('of', 'networks', 'with'), ('networks', 'with', 'a'), ('with', 'a', 'similar'), ('a', 'similar', 'general'), ('similar', 'general', 'structure,'), ('general', 'structure,', 'where'), ('structure,', 'where', 'one'), ('where', 'one', 'is'), ('one', 'is', 'finite'), ('is', 'finite', 'impulse'), ('finite', 'impulse', 'and'), ('impulse', 'and', 'the'), ('and', 'the', 'other'), ('the', 'other', 'is'), ('other', 'is', 'infinite'), ('is', 'infinite', 'impulse.'), ('infinite', 'impulse.', 'Both'), ('impulse.', 'Both', 'classes'), ('Both', 'classes', 'of'), ('classes', 'of', 'networks'), ('of', 'networks', 'exhibit'), ('networks', 'exhibit', 'temporal'), ('exhibit', 'temporal', 'dynamic'), ('temporal', 'dynamic', 'behavior.')]\n"
     ]
    }
   ],
   "source": [
    "N_GRAM_BAG = list(ngrams(WORD_BAG, 3))\n",
    "print(N_GRAM_BAG)"
   ]
  },
  {
   "cell_type": "markdown",
   "metadata": {},
   "source": [
    "## One Hot Encoding"
   ]
  },
  {
   "cell_type": "code",
   "execution_count": 6,
   "metadata": {},
   "outputs": [],
   "source": [
    "UNIQUE_WORD = list(set(WORD_BAG)) # Get Unique Word"
   ]
  },
  {
   "cell_type": "code",
   "execution_count": 7,
   "metadata": {},
   "outputs": [
    {
     "name": "stdout",
     "output_type": "stream",
     "text": [
      "['impulse.', 'used', 'network', 'with', 'structure,', 'recurrent', 'where', 'Both', 'exhibit', 'to', 'infinite', 'temporal', 'indiscriminately', 'one', 'and', 'general', 'behavior.', 'other', 'term', 'is', 'networks', 'neural', 'broad', 'the', 'two', 'dynamic', 'The', 'of', 'refer', 'similar', 'impulse', 'classes', 'a', 'finite']\n"
     ]
    }
   ],
   "source": [
    "print(UNIQUE_WORD)"
   ]
  },
  {
   "cell_type": "code",
   "execution_count": 8,
   "metadata": {},
   "outputs": [],
   "source": [
    "def OneHotEncoder(INPUT):\n",
    "    DICT = dict()\n",
    "    \n",
    "    for i in range(len(UNIQUE_WORD)):\n",
    "        DICT[UNIQUE_WORD[i]] = i\n",
    "        \n",
    "    ONE_HOT_VECTOR = np.zeros(len(UNIQUE_WORD))\n",
    "    ONE_HOT_VECTOR[DICT[str(INPUT)]] = 1\n",
    "    \n",
    "    return ONE_HOT_VECTOR"
   ]
  },
  {
   "cell_type": "code",
   "execution_count": 9,
   "metadata": {
    "scrolled": true
   },
   "outputs": [
    {
     "name": "stdout",
     "output_type": "stream",
     "text": [
      "[0. 0. 0. 0. 0. 0. 0. 0. 0. 0. 0. 0. 0. 0. 0. 0. 0. 0. 0. 0. 0. 0. 0. 0.\n",
      " 0. 0. 1. 0. 0. 0. 0. 0. 0. 0.]\n"
     ]
    }
   ],
   "source": [
    "print(OneHotEncoder('The'))"
   ]
  },
  {
   "cell_type": "code",
   "execution_count": 11,
   "metadata": {},
   "outputs": [
    {
     "name": "stdout",
     "output_type": "stream",
     "text": [
      "[0. 0. 0. 0. 0. 0. 0. 0. 0. 0. 0. 0. 0. 0. 0. 0. 0. 0. 0. 0. 0. 0. 0. 0.\n",
      " 0. 0. 0. 0. 0. 0. 1. 0. 0. 0.]\n"
     ]
    }
   ],
   "source": [
    "print(OneHotEncoder('impulse'))"
   ]
  },
  {
   "cell_type": "code",
   "execution_count": null,
   "metadata": {},
   "outputs": [],
   "source": []
  }
 ],
 "metadata": {
  "kernelspec": {
   "display_name": "Python 3",
   "language": "python",
   "name": "python3"
  },
  "language_info": {
   "codemirror_mode": {
    "name": "ipython",
    "version": 3
   },
   "file_extension": ".py",
   "mimetype": "text/x-python",
   "name": "python",
   "nbconvert_exporter": "python",
   "pygments_lexer": "ipython3",
   "version": "3.7.3"
  }
 },
 "nbformat": 4,
 "nbformat_minor": 2
}
