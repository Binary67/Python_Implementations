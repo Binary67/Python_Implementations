{
 "cells": [
  {
   "cell_type": "markdown",
   "metadata": {},
   "source": [
    "# 1. Multi-Threading\n",
    "\n",
    "### The Fibonacci numbers and lines are technical indicators using a mathematical sequence developed by the Italian mathematician Leonardo Fibonacci. These sequence of numbers, starting with zero and one, is created by adding the previous two numbers. For example, the early part of the sequence is 0, 1, 1, 2, 3, 5, 8, 13, 21, 34, 55, 89, and 144."
   ]
  },
  {
   "cell_type": "code",
   "execution_count": 1,
   "metadata": {},
   "outputs": [],
   "source": [
    "import time\n",
    "import threading\n",
    "from queue import Queue"
   ]
  },
  {
   "cell_type": "code",
   "execution_count": 2,
   "metadata": {},
   "outputs": [],
   "source": [
    "def Fibonacci_Threading(N, q):\n",
    "    if N == 1 or N == 2:\n",
    "        q.put(1)\n",
    "    else:\n",
    "        Bottom_Up = [None] * (N + 1)\n",
    "        Bottom_Up[1] = 1\n",
    "        Bottom_Up[2] = 1\n",
    "        for i in range(3, N + 1):\n",
    "            Bottom_Up[i] = Bottom_Up[i - 1] + Bottom_Up[i - 2]\n",
    "            \n",
    "        q.put(Bottom_Up[N])"
   ]
  },
  {
   "cell_type": "code",
   "execution_count": 3,
   "metadata": {},
   "outputs": [],
   "source": [
    "def Multithreading(Input):\n",
    "    \n",
    "    q = Queue() # Initialize Queue to retrieve data\n",
    "    threads = []\n",
    "    results = []\n",
    "    \n",
    "    for i in range(1, Input):\n",
    "        t = threading.Thread(target = Fibonacci_Threading, args = (i, q))\n",
    "        t.start()\n",
    "        threads.append(t)\n",
    "        \n",
    "    for thread in threads:\n",
    "        thread.join()\n",
    "        \n",
    "    for _ in range(Input - 1):\n",
    "        results.append(q.get())\n",
    "        \n",
    "    print(results[-1])"
   ]
  },
  {
   "cell_type": "code",
   "execution_count": 4,
   "metadata": {},
   "outputs": [
    {
     "name": "stdout",
     "output_type": "stream",
     "text": [
      "218922995834555169026\n",
      "MultiThreading Takes 0.027396202087402344 ms\n"
     ]
    }
   ],
   "source": [
    "if __name__ == \"__main__\":\n",
    "    \n",
    "    N = 100\n",
    "    \n",
    "    # Multithreading\n",
    "    Start = time.time()\n",
    "    Multithreading(N)\n",
    "    End = time.time()\n",
    "    print('MultiThreading Takes', End - Start, 'ms')"
   ]
  },
  {
   "cell_type": "code",
   "execution_count": null,
   "metadata": {},
   "outputs": [],
   "source": []
  }
 ],
 "metadata": {
  "kernelspec": {
   "display_name": "Python 3",
   "language": "python",
   "name": "python3"
  },
  "language_info": {
   "codemirror_mode": {
    "name": "ipython",
    "version": 3
   },
   "file_extension": ".py",
   "mimetype": "text/x-python",
   "name": "python",
   "nbconvert_exporter": "python",
   "pygments_lexer": "ipython3",
   "version": "3.6.5"
  }
 },
 "nbformat": 4,
 "nbformat_minor": 2
}
